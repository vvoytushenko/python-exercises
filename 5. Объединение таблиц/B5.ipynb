{
 "cells": [
  {
   "cell_type": "code",
   "execution_count": 1,
   "metadata": {},
   "outputs": [],
   "source": [
    "import pandas as pd\n",
    "\n",
    "movies = pd.read_csv('C:\\\\Users\\\\vvoyt\\\\learning\\\\python-exercises\\\\5. Объединение таблиц\\\\movies.csv')\n",
    "ratings = pd.read_csv('C:\\\\Users\\\\vvoyt\\\\learning\\\\python-exercises\\\\5. Объединение таблиц\\\\ratings.csv')"
   ]
  },
  {
   "cell_type": "code",
   "execution_count": 2,
   "metadata": {},
   "outputs": [
    {
     "data": {
      "text/plain": [
       "100836"
      ]
     },
     "execution_count": 2,
     "metadata": {},
     "output_type": "execute_result"
    }
   ],
   "source": [
    "#6.3.1\n",
    "#Какоe количество строк в файле рейтингов?\n",
    "\n",
    "len(ratings)"
   ]
  },
  {
   "cell_type": "code",
   "execution_count": 3,
   "metadata": {},
   "outputs": [
    {
     "data": {
      "text/html": [
       "<div>\n",
       "<style scoped>\n",
       "    .dataframe tbody tr th:only-of-type {\n",
       "        vertical-align: middle;\n",
       "    }\n",
       "\n",
       "    .dataframe tbody tr th {\n",
       "        vertical-align: top;\n",
       "    }\n",
       "\n",
       "    .dataframe thead th {\n",
       "        text-align: right;\n",
       "    }\n",
       "</style>\n",
       "<table border=\"1\" class=\"dataframe\">\n",
       "  <thead>\n",
       "    <tr style=\"text-align: right;\">\n",
       "      <th></th>\n",
       "      <th>movieId</th>\n",
       "      <th>title</th>\n",
       "      <th>genres</th>\n",
       "    </tr>\n",
       "  </thead>\n",
       "  <tbody>\n",
       "    <tr>\n",
       "      <th>0</th>\n",
       "      <td>1</td>\n",
       "      <td>Toy Story (1995)</td>\n",
       "      <td>Adventure|Animation|Children|Comedy|Fantasy</td>\n",
       "    </tr>\n",
       "    <tr>\n",
       "      <th>1</th>\n",
       "      <td>2</td>\n",
       "      <td>Jumanji (1995)</td>\n",
       "      <td>Adventure|Children|Fantasy</td>\n",
       "    </tr>\n",
       "    <tr>\n",
       "      <th>2</th>\n",
       "      <td>3</td>\n",
       "      <td>Grumpier Old Men (1995)</td>\n",
       "      <td>Comedy|Romance</td>\n",
       "    </tr>\n",
       "    <tr>\n",
       "      <th>3</th>\n",
       "      <td>4</td>\n",
       "      <td>Waiting to Exhale (1995)</td>\n",
       "      <td>Comedy|Drama|Romance</td>\n",
       "    </tr>\n",
       "    <tr>\n",
       "      <th>4</th>\n",
       "      <td>5</td>\n",
       "      <td>Father of the Bride Part II (1995)</td>\n",
       "      <td>Comedy</td>\n",
       "    </tr>\n",
       "  </tbody>\n",
       "</table>\n",
       "</div>"
      ],
      "text/plain": [
       "   movieId                               title  \\\n",
       "0        1                    Toy Story (1995)   \n",
       "1        2                      Jumanji (1995)   \n",
       "2        3             Grumpier Old Men (1995)   \n",
       "3        4            Waiting to Exhale (1995)   \n",
       "4        5  Father of the Bride Part II (1995)   \n",
       "\n",
       "                                        genres  \n",
       "0  Adventure|Animation|Children|Comedy|Fantasy  \n",
       "1                   Adventure|Children|Fantasy  \n",
       "2                               Comedy|Romance  \n",
       "3                         Comedy|Drama|Romance  \n",
       "4                                       Comedy  "
      ]
     },
     "metadata": {},
     "output_type": "display_data"
    }
   ],
   "source": [
    "#6.3.2\n",
    "#Какое количество жанров имеют фильмы в датасете модуля?\n",
    "\n",
    "#6.3.3\n",
    "#В каком столбце датасета модуля можно найти год производства фильма?\n",
    "\n",
    "display(movies.head())"
   ]
  },
  {
   "cell_type": "code",
   "execution_count": 4,
   "metadata": {},
   "outputs": [
    {
     "data": {
      "text/plain": [
       "0.5"
      ]
     },
     "metadata": {},
     "output_type": "display_data"
    }
   ],
   "source": [
    "#6.3.4\n",
    "#Какой минимальный рейтинг можно выставить фильму в датасете модуля?\n",
    "\n",
    "min_rating = ratings['rating'].min()\n",
    "display(min_rating)"
   ]
  },
  {
   "cell_type": "code",
   "execution_count": 5,
   "metadata": {},
   "outputs": [
    {
     "data": {
      "text/plain": [
       "5.0"
      ]
     },
     "metadata": {},
     "output_type": "display_data"
    }
   ],
   "source": [
    "#6.3.5\n",
    "#Какой максимальный рейтинг можно выставить фильму в датасете модуля?\n",
    "\n",
    "max_rating = ratings['rating'].max()\n",
    "display(max_rating)"
   ]
  },
  {
   "cell_type": "code",
   "execution_count": 6,
   "metadata": {},
   "outputs": [
    {
     "data": {
      "text/plain": [
       "9742"
      ]
     },
     "metadata": {},
     "output_type": "display_data"
    }
   ],
   "source": [
    "#6.7.2\n",
    "#Сколько фильмов в таблице movies?\n",
    "\n",
    "movies_count = movies['movieId'].nunique()\n",
    "display(movies_count)"
   ]
  },
  {
   "cell_type": "code",
   "execution_count": 7,
   "metadata": {},
   "outputs": [
    {
     "data": {
      "text/html": [
       "<div>\n",
       "<style scoped>\n",
       "    .dataframe tbody tr th:only-of-type {\n",
       "        vertical-align: middle;\n",
       "    }\n",
       "\n",
       "    .dataframe tbody tr th {\n",
       "        vertical-align: top;\n",
       "    }\n",
       "\n",
       "    .dataframe thead th {\n",
       "        text-align: right;\n",
       "    }\n",
       "</style>\n",
       "<table border=\"1\" class=\"dataframe\">\n",
       "  <thead>\n",
       "    <tr style=\"text-align: right;\">\n",
       "      <th></th>\n",
       "      <th>userId</th>\n",
       "      <th>movieId</th>\n",
       "      <th>rating</th>\n",
       "      <th>timestamp</th>\n",
       "      <th>title</th>\n",
       "      <th>genres</th>\n",
       "    </tr>\n",
       "  </thead>\n",
       "  <tbody>\n",
       "    <tr>\n",
       "      <th>0</th>\n",
       "      <td>1</td>\n",
       "      <td>1</td>\n",
       "      <td>4.0</td>\n",
       "      <td>964982703</td>\n",
       "      <td>Toy Story (1995)</td>\n",
       "      <td>Adventure|Animation|Children|Comedy|Fantasy</td>\n",
       "    </tr>\n",
       "    <tr>\n",
       "      <th>1</th>\n",
       "      <td>1</td>\n",
       "      <td>3</td>\n",
       "      <td>4.0</td>\n",
       "      <td>964981247</td>\n",
       "      <td>Grumpier Old Men (1995)</td>\n",
       "      <td>Comedy|Romance</td>\n",
       "    </tr>\n",
       "    <tr>\n",
       "      <th>2</th>\n",
       "      <td>1</td>\n",
       "      <td>6</td>\n",
       "      <td>4.0</td>\n",
       "      <td>964982224</td>\n",
       "      <td>Heat (1995)</td>\n",
       "      <td>Action|Crime|Thriller</td>\n",
       "    </tr>\n",
       "    <tr>\n",
       "      <th>3</th>\n",
       "      <td>1</td>\n",
       "      <td>47</td>\n",
       "      <td>5.0</td>\n",
       "      <td>964983815</td>\n",
       "      <td>Seven (a.k.a. Se7en) (1995)</td>\n",
       "      <td>Mystery|Thriller</td>\n",
       "    </tr>\n",
       "    <tr>\n",
       "      <th>4</th>\n",
       "      <td>1</td>\n",
       "      <td>50</td>\n",
       "      <td>5.0</td>\n",
       "      <td>964982931</td>\n",
       "      <td>Usual Suspects, The (1995)</td>\n",
       "      <td>Crime|Mystery|Thriller</td>\n",
       "    </tr>\n",
       "  </tbody>\n",
       "</table>\n",
       "</div>"
      ],
      "text/plain": [
       "   userId  movieId  rating  timestamp                        title  \\\n",
       "0       1        1     4.0  964982703             Toy Story (1995)   \n",
       "1       1        3     4.0  964981247      Grumpier Old Men (1995)   \n",
       "2       1        6     4.0  964982224                  Heat (1995)   \n",
       "3       1       47     5.0  964983815  Seven (a.k.a. Se7en) (1995)   \n",
       "4       1       50     5.0  964982931   Usual Suspects, The (1995)   \n",
       "\n",
       "                                        genres  \n",
       "0  Adventure|Animation|Children|Comedy|Fantasy  \n",
       "1                               Comedy|Romance  \n",
       "2                        Action|Crime|Thriller  \n",
       "3                             Mystery|Thriller  \n",
       "4                       Crime|Mystery|Thriller  "
      ]
     },
     "execution_count": 7,
     "metadata": {},
     "output_type": "execute_result"
    }
   ],
   "source": [
    "#У датафреймов ratings и movies есть общий столбец movieId.\n",
    "    #А это значит, что мы можем объединить эти датафреймы в одну таблицу. Используем метод merge:\n",
    "\n",
    "joined = ratings.merge(movies, how='left', on='movieId')\n",
    "joined.head() "
   ]
  },
  {
   "cell_type": "code",
   "execution_count": 8,
   "metadata": {},
   "outputs": [
    {
     "data": {
      "text/plain": [
       "True"
      ]
     },
     "execution_count": 8,
     "metadata": {},
     "output_type": "execute_result"
    }
   ],
   "source": [
    "#После объединения датафреймов лучше проверять, что не возникло дубликатов.\n",
    "#О возможных проблемах метода merge мы поговорим в следующем блоке.\n",
    "#Сейчас убедимся в том, что число строк объединенного датафрейма совпадает с исходным:\n",
    "\n",
    "len(ratings) == len(joined)"
   ]
  },
  {
   "cell_type": "code",
   "execution_count": 9,
   "metadata": {},
   "outputs": [],
   "source": [
    "#Удаляем дубликаты\n",
    "#Если вам нужно избежать такой ситуации, необходимо удалить дубликаты из таблицы movies.\n",
    "#Для этого подходит метод drop_duplicates. В параметре subset указываем один или несколько столбцов,\n",
    "    #по комбинации которых хотим удалить дубликаты. С помощью параметра keep указываем какой из встречающихся дубликатов\n",
    "    #оставить (например, первый или последний). Параметр inplace указывает, что изменения нужно сохранить в датафрейме, \n",
    "    #к которому применяется метод (в нашем случае — в датафрейме movies):\n",
    "\n",
    "        #movies.drop_duplicates(subset = 'movieId', keep = 'first', inplace = True)\n",
    "        #movies.head()\n",
    "\n",
    "#Теперь объединение таблиц будет корректным:\n",
    "    #ratings.merge(movies, how = 'left', on = 'movieId')"
   ]
  },
  {
   "cell_type": "code",
   "execution_count": 10,
   "metadata": {},
   "outputs": [],
   "source": [
    "#В этой серии заданий мы разберемся с данными новых поступлений интернет-магазина.\n",
    "#В словаре items_dict (который мы переведем в датафрейм) содержится информация о наличии товара на складе:\n",
    "items_dict = {\n",
    "\n",
    "    'item_id': [417283, 849734, 132223, 573943, 19475, 3294095, 382043, 302948, 100132, 312394], \n",
    "    'vendor': ['Samsung', 'LG', 'Apple', 'Apple', 'LG', 'Apple', 'Samsung', 'Samsung', 'LG', 'ZTE'],\n",
    "    'stock_count': [54, 33, 122, 18, 102, 43, 77, 143, 60, 19]\n",
    "}\n",
    "\n",
    "#А в словаре purchase_log — данные о покупках товаров:\n",
    "purchase_log = {\n",
    "    'purchase_id': [101, 101, 101, 112, 121, 145, 145, 145, 145, 221],\n",
    "    'item_id': [417283, 849734, 132223, 573943, 19475, 3294095, 382043, 302948, 103845, 100132], \n",
    "    'price': [13900, 5330, 38200, 49990, 9890, 33000, 67500, 34500, 89900, 11400]\n",
    "}\n",
    "\n",
    "items_df = pd.DataFrame(items_dict)\n",
    "purchase_df = pd.DataFrame(purchase_log)"
   ]
  },
  {
   "cell_type": "code",
   "execution_count": 11,
   "metadata": {},
   "outputs": [
    {
     "data": {
      "text/html": [
       "<div>\n",
       "<style scoped>\n",
       "    .dataframe tbody tr th:only-of-type {\n",
       "        vertical-align: middle;\n",
       "    }\n",
       "\n",
       "    .dataframe tbody tr th {\n",
       "        vertical-align: top;\n",
       "    }\n",
       "\n",
       "    .dataframe thead th {\n",
       "        text-align: right;\n",
       "    }\n",
       "</style>\n",
       "<table border=\"1\" class=\"dataframe\">\n",
       "  <thead>\n",
       "    <tr style=\"text-align: right;\">\n",
       "      <th></th>\n",
       "      <th>purchase_id</th>\n",
       "      <th>item_id</th>\n",
       "      <th>price</th>\n",
       "      <th>vendor</th>\n",
       "      <th>stock_count</th>\n",
       "    </tr>\n",
       "  </thead>\n",
       "  <tbody>\n",
       "    <tr>\n",
       "      <th>8</th>\n",
       "      <td>145.0</td>\n",
       "      <td>103845</td>\n",
       "      <td>89900.0</td>\n",
       "      <td>NaN</td>\n",
       "      <td>NaN</td>\n",
       "    </tr>\n",
       "  </tbody>\n",
       "</table>\n",
       "</div>"
      ],
      "text/plain": [
       "   purchase_id  item_id    price vendor  stock_count\n",
       "8        145.0   103845  89900.0    NaN          NaN"
      ]
     },
     "metadata": {},
     "output_type": "display_data"
    }
   ],
   "source": [
    "#6.12.1\n",
    "#Объедините получившиеся датафреймы по столбцу item_id с типом outer.\n",
    "#Модель с каким item_id есть в статистике продаж purchase_df, но не учтена на складе? Введите ответ в виде целого числа.\n",
    "\n",
    "outer_join = purchase_df.merge(items_df, how='outer', on='item_id')\n",
    "outer_join\n",
    "\n",
    "display(outer_join[outer_join['stock_count'].isnull()])"
   ]
  },
  {
   "cell_type": "code",
   "execution_count": 12,
   "metadata": {},
   "outputs": [
    {
     "data": {
      "text/html": [
       "<div>\n",
       "<style scoped>\n",
       "    .dataframe tbody tr th:only-of-type {\n",
       "        vertical-align: middle;\n",
       "    }\n",
       "\n",
       "    .dataframe tbody tr th {\n",
       "        vertical-align: top;\n",
       "    }\n",
       "\n",
       "    .dataframe thead th {\n",
       "        text-align: right;\n",
       "    }\n",
       "</style>\n",
       "<table border=\"1\" class=\"dataframe\">\n",
       "  <thead>\n",
       "    <tr style=\"text-align: right;\">\n",
       "      <th></th>\n",
       "      <th>item_id</th>\n",
       "      <th>vendor</th>\n",
       "      <th>stock_count</th>\n",
       "      <th>purchase_id</th>\n",
       "      <th>price</th>\n",
       "    </tr>\n",
       "  </thead>\n",
       "  <tbody>\n",
       "    <tr>\n",
       "      <th>9</th>\n",
       "      <td>312394</td>\n",
       "      <td>ZTE</td>\n",
       "      <td>19.0</td>\n",
       "      <td>NaN</td>\n",
       "      <td>NaN</td>\n",
       "    </tr>\n",
       "  </tbody>\n",
       "</table>\n",
       "</div>"
      ],
      "text/plain": [
       "   item_id vendor  stock_count  purchase_id  price\n",
       "9   312394    ZTE         19.0          NaN    NaN"
      ]
     },
     "metadata": {},
     "output_type": "display_data"
    }
   ],
   "source": [
    "#6.12.2\n",
    "#Обратная задача — модель с каким item_id есть на складе, но не имела ни одной продажи? Введите ответ в виде целого числа.\n",
    "\n",
    "outer_join = items_df.merge(purchase_df, how='outer', on='item_id')\n",
    "outer_join\n",
    "\n",
    "display(outer_join[outer_join['price'].isnull()])"
   ]
  },
  {
   "cell_type": "code",
   "execution_count": 13,
   "metadata": {},
   "outputs": [
    {
     "ename": "SyntaxError",
     "evalue": "invalid syntax (<ipython-input-13-9b7abe6ffc1d>, line 1)",
     "output_type": "error",
     "traceback": [
      "\u001b[1;36m  File \u001b[1;32m\"<ipython-input-13-9b7abe6ffc1d>\"\u001b[1;36m, line \u001b[1;32m1\u001b[0m\n\u001b[1;33m    6.12.3\u001b[0m\n\u001b[1;37m        ^\u001b[0m\n\u001b[1;31mSyntaxError\u001b[0m\u001b[1;31m:\u001b[0m invalid syntax\n"
     ]
    }
   ],
   "source": [
    "6.12.3\n",
    "#Сформируйте датафрейм merged, в котором в результате объединения purchase_df и items_df останутся модели,\n",
    "    #которые учтены на складе и имели продажи. Сколько всего таких моделей?\n",
    "\n",
    "merged = purchase_df.merge(items_df, how='inner', on='item_id')\n",
    "len(merged)"
   ]
  },
  {
   "cell_type": "code",
   "execution_count": 14,
   "metadata": {},
   "outputs": [
    {
     "data": {
      "text/html": [
       "<div>\n",
       "<style scoped>\n",
       "    .dataframe tbody tr th:only-of-type {\n",
       "        vertical-align: middle;\n",
       "    }\n",
       "\n",
       "    .dataframe tbody tr th {\n",
       "        vertical-align: top;\n",
       "    }\n",
       "\n",
       "    .dataframe thead th {\n",
       "        text-align: right;\n",
       "    }\n",
       "</style>\n",
       "<table border=\"1\" class=\"dataframe\">\n",
       "  <thead>\n",
       "    <tr style=\"text-align: right;\">\n",
       "      <th></th>\n",
       "      <th>item_id</th>\n",
       "      <th>vendor</th>\n",
       "      <th>stock_count</th>\n",
       "      <th>purchase_id</th>\n",
       "      <th>price</th>\n",
       "      <th>revenue_plan</th>\n",
       "    </tr>\n",
       "  </thead>\n",
       "  <tbody>\n",
       "    <tr>\n",
       "      <th>6</th>\n",
       "      <td>382043</td>\n",
       "      <td>Samsung</td>\n",
       "      <td>77</td>\n",
       "      <td>145.0</td>\n",
       "      <td>67500.0</td>\n",
       "      <td>5197500.0</td>\n",
       "    </tr>\n",
       "    <tr>\n",
       "      <th>7</th>\n",
       "      <td>302948</td>\n",
       "      <td>Samsung</td>\n",
       "      <td>143</td>\n",
       "      <td>145.0</td>\n",
       "      <td>34500.0</td>\n",
       "      <td>4933500.0</td>\n",
       "    </tr>\n",
       "    <tr>\n",
       "      <th>2</th>\n",
       "      <td>132223</td>\n",
       "      <td>Apple</td>\n",
       "      <td>122</td>\n",
       "      <td>101.0</td>\n",
       "      <td>38200.0</td>\n",
       "      <td>4660400.0</td>\n",
       "    </tr>\n",
       "    <tr>\n",
       "      <th>5</th>\n",
       "      <td>3294095</td>\n",
       "      <td>Apple</td>\n",
       "      <td>43</td>\n",
       "      <td>145.0</td>\n",
       "      <td>33000.0</td>\n",
       "      <td>1419000.0</td>\n",
       "    </tr>\n",
       "    <tr>\n",
       "      <th>4</th>\n",
       "      <td>19475</td>\n",
       "      <td>LG</td>\n",
       "      <td>102</td>\n",
       "      <td>121.0</td>\n",
       "      <td>9890.0</td>\n",
       "      <td>1008780.0</td>\n",
       "    </tr>\n",
       "    <tr>\n",
       "      <th>3</th>\n",
       "      <td>573943</td>\n",
       "      <td>Apple</td>\n",
       "      <td>18</td>\n",
       "      <td>112.0</td>\n",
       "      <td>49990.0</td>\n",
       "      <td>899820.0</td>\n",
       "    </tr>\n",
       "    <tr>\n",
       "      <th>0</th>\n",
       "      <td>417283</td>\n",
       "      <td>Samsung</td>\n",
       "      <td>54</td>\n",
       "      <td>101.0</td>\n",
       "      <td>13900.0</td>\n",
       "      <td>750600.0</td>\n",
       "    </tr>\n",
       "    <tr>\n",
       "      <th>8</th>\n",
       "      <td>100132</td>\n",
       "      <td>LG</td>\n",
       "      <td>60</td>\n",
       "      <td>221.0</td>\n",
       "      <td>11400.0</td>\n",
       "      <td>684000.0</td>\n",
       "    </tr>\n",
       "    <tr>\n",
       "      <th>1</th>\n",
       "      <td>849734</td>\n",
       "      <td>LG</td>\n",
       "      <td>33</td>\n",
       "      <td>101.0</td>\n",
       "      <td>5330.0</td>\n",
       "      <td>175890.0</td>\n",
       "    </tr>\n",
       "    <tr>\n",
       "      <th>9</th>\n",
       "      <td>312394</td>\n",
       "      <td>ZTE</td>\n",
       "      <td>19</td>\n",
       "      <td>NaN</td>\n",
       "      <td>NaN</td>\n",
       "      <td>NaN</td>\n",
       "    </tr>\n",
       "  </tbody>\n",
       "</table>\n",
       "</div>"
      ],
      "text/plain": [
       "   item_id   vendor  stock_count  purchase_id    price  revenue_plan\n",
       "6   382043  Samsung           77        145.0  67500.0     5197500.0\n",
       "7   302948  Samsung          143        145.0  34500.0     4933500.0\n",
       "2   132223    Apple          122        101.0  38200.0     4660400.0\n",
       "5  3294095    Apple           43        145.0  33000.0     1419000.0\n",
       "4    19475       LG          102        121.0   9890.0     1008780.0\n",
       "3   573943    Apple           18        112.0  49990.0      899820.0\n",
       "0   417283  Samsung           54        101.0  13900.0      750600.0\n",
       "8   100132       LG           60        221.0  11400.0      684000.0\n",
       "1   849734       LG           33        101.0   5330.0      175890.0\n",
       "9   312394      ZTE           19          NaN      NaN           NaN"
      ]
     },
     "execution_count": 14,
     "metadata": {},
     "output_type": "execute_result"
    }
   ],
   "source": [
    "#6.12.4\n",
    "#Посчитайте объем выручки для каждой модели, которую можно получить, распродав все остатки на складе.\n",
    "    #Модель с каким item_id имеет максимальное значение выручки после распродажи остатков? Ответ дайте в виде целого числа.\n",
    "\n",
    "merge = items_df.merge(purchase_df, how='left', on='item_id')\n",
    "merge['revenue_plan'] = merge['stock_count'] * merge['price']\n",
    "\n",
    "merge.sort_values('revenue_plan', ascending=False)"
   ]
  },
  {
   "cell_type": "code",
   "execution_count": 15,
   "metadata": {},
   "outputs": [
    {
     "data": {
      "text/plain": [
       "19729490.0"
      ]
     },
     "execution_count": 15,
     "metadata": {},
     "output_type": "execute_result"
    }
   ],
   "source": [
    "#6.12.5\n",
    "#Посчитайте итоговую выручку из прошлого задания по всем моделям. Ответ дайте в виде целого числа.\n",
    "\n",
    "merge['revenue_plan'].sum()"
   ]
  },
  {
   "cell_type": "code",
   "execution_count": 18,
   "metadata": {},
   "outputs": [
    {
     "data": {
      "text/plain": [
       "['ratings_1.txt',\n",
       " 'ratings_10.txt',\n",
       " 'ratings_2.txt',\n",
       " 'ratings_3.txt',\n",
       " 'ratings_4.txt',\n",
       " 'ratings_5.txt',\n",
       " 'ratings_6.txt',\n",
       " 'ratings_7.txt',\n",
       " 'ratings_8.txt',\n",
       " 'ratings_9.txt']"
      ]
     },
     "execution_count": 18,
     "metadata": {},
     "output_type": "execute_result"
    }
   ],
   "source": [
    "import os\n",
    "\n",
    "files = os.listdir('C:\\\\Users\\\\vvoyt\\\\learning\\\\python-exercises\\\\5. Объединение таблиц\\\\B5')\n",
    "files"
   ]
  },
  {
   "cell_type": "code",
   "execution_count": 19,
   "metadata": {},
   "outputs": [
    {
     "name": "stdout",
     "output_type": "stream",
     "text": [
      "['ratings.txt', 'stock_stats.txt', 'movies.txt']\n"
     ]
    }
   ],
   "source": [
    "#6.13.1\n",
    "#Создайте на основе списка files новый список data, в который поместите только файлы, содержащие в названии \"txt\".\n",
    "\n",
    "files = ['setup.py', 'ratings.txt', 'stock_stats.txt', 'movies.txt', 'run.sh', 'game_of_thrones.mov']\n",
    "data = []\n",
    "\n",
    "for file in files:\n",
    "    if \"txt\" in file:\n",
    "        data.append(file)\n",
    "\n",
    "print(data)"
   ]
  },
  {
   "cell_type": "code",
   "execution_count": 20,
   "metadata": {},
   "outputs": [],
   "source": [
    "#На прошлом шаге мы получили список файлов в папке. Давайте прочитаем файлы и склеим все выгрузки в один датафрейм .\n",
    "#В этом нам поможет метод concatenate.\n",
    "#Этот метод позволяет склеивать два и более датафреймов в один. \n",
    "    #Например, если у нас есть датафреймы df1 и df2 с одинаковыми столбцами, то единую таблицу можно получить следующим образом:\n",
    "#total_dataframe = pd.concat([df1, df2])   \n",
    "\n",
    "\n",
    "#Воспользуемся этим приёмом: при прохождении по файлам папки data будем записывать содержимое каждого файла в датафрейм temp и добавлять его к итоговому датафрейму data.\n",
    "    #Перед этим создадим пустой датафрейм data с нужными названиями столбцов:\n",
    "#data = pd.DataFrame(columns = ['userId', 'movieId', 'rating', 'timestamp'])\n",
    "\n",
    "\n",
    "#Для каждого имени файла filename будем записывать его содержимое в датафрейм temp:\n",
    "#temp = pd.read_csv( os.path.join('C:\\\\Users\\\\vvoyt\\\\learning\\\\Skillfactory trainee\\\\Module B\\\\data\\\\B6', filename),names = ['userId', 'movieId', 'rating', 'timestamp'] )\n",
    "\n",
    "\n",
    "#И прибавлять содержимое очередного файла к data:\n",
    "#data = pd.concat([data, temp])\n",
    "\n",
    "\n",
    "#Использование временного датафрейма temp аналогично тому как мы прибавляем значение к переменной i в цикле: i = i + 1.\n",
    "#Только вместо i у нас датафрейм data, а вместо единицы — temp."
   ]
  },
  {
   "cell_type": "code",
   "execution_count": 21,
   "metadata": {},
   "outputs": [
    {
     "data": {
      "text/plain": [
       "100004"
      ]
     },
     "execution_count": 21,
     "metadata": {},
     "output_type": "execute_result"
    }
   ],
   "source": [
    "#6.15.1\n",
    "#Напишите цикл, который собирает содержимое файлов папки data в единый датафрейм data.\n",
    "#Сколько строк в датафрейме data?\n",
    "\n",
    "files = os.listdir('C:\\\\Users\\\\vvoyt\\\\learning\\\\Skillfactory trainee\\\\Module B\\\\data\\\\B6')\n",
    "data = pd.DataFrame(columns = ['userId', 'movieId', 'rating', 'timestamp'])\n",
    "\n",
    "for filename in files:\n",
    "    temp = pd.read_csv(os.path.join('C:\\\\Users\\\\vvoyt\\\\learning\\\\Skillfactory trainee\\\\Module B\\\\data\\\\B6', filename), names = ['userId', 'movieId', 'rating', 'timestamp'])\n",
    "    data = pd.concat([data, temp])\n",
    "len(data)"
   ]
  },
  {
   "cell_type": "code",
   "execution_count": 22,
   "metadata": {},
   "outputs": [
    {
     "data": {
      "text/plain": [
       "rating\n",
       "0.5     1370\n",
       "1.0     2811\n",
       "1.5     1791\n",
       "2.0     7551\n",
       "2.5     5550\n",
       "3.0    20047\n",
       "3.5    13136\n",
       "4.0    26818\n",
       "4.5     8551\n",
       "5.0    13211\n",
       "Name: rating, dtype: int64"
      ]
     },
     "execution_count": 22,
     "metadata": {},
     "output_type": "execute_result"
    }
   ],
   "source": [
    "#6.17.3\n",
    "#Какое количество раз была выставлена низшая оценка 0.5 в наших рейтингах? Используйте файл ratings.csv\n",
    "\n",
    "\n",
    "ratings = pd.read_csv('C:\\\\Users\\\\vvoyt\\\\learning\\\\Skillfactory trainee\\\\Module B\\\\data\\\\ratings.csv')\n",
    "ratings.groupby(['rating'])['rating'].count()"
   ]
  },
  {
   "cell_type": "code",
   "execution_count": 23,
   "metadata": {},
   "outputs": [
    {
     "data": {
      "text/plain": [
       "100854"
      ]
     },
     "execution_count": 23,
     "metadata": {},
     "output_type": "execute_result"
    }
   ],
   "source": [
    "#6.17.4\n",
    "#Объедините датафреймы ratings и movies, используя параметр how='outer'.\n",
    "#Какое количество строк в получившемся датафрейме?\n",
    "\n",
    "joined = ratings.merge(movies, how='outer', on='movieId')\n",
    "len(joined)"
   ]
  },
  {
   "cell_type": "code",
   "execution_count": 24,
   "metadata": {},
   "outputs": [
    {
     "data": {
      "text/html": [
       "<div>\n",
       "<style scoped>\n",
       "    .dataframe tbody tr th:only-of-type {\n",
       "        vertical-align: middle;\n",
       "    }\n",
       "\n",
       "    .dataframe tbody tr th {\n",
       "        vertical-align: top;\n",
       "    }\n",
       "\n",
       "    .dataframe thead th {\n",
       "        text-align: right;\n",
       "    }\n",
       "</style>\n",
       "<table border=\"1\" class=\"dataframe\">\n",
       "  <thead>\n",
       "    <tr style=\"text-align: right;\">\n",
       "      <th></th>\n",
       "      <th>movieId</th>\n",
       "      <th>title</th>\n",
       "      <th>genres</th>\n",
       "      <th>userId</th>\n",
       "      <th>rating</th>\n",
       "      <th>timestamp</th>\n",
       "    </tr>\n",
       "  </thead>\n",
       "  <tbody>\n",
       "    <tr>\n",
       "      <th>54467</th>\n",
       "      <td>3456</td>\n",
       "      <td>Color of Paradise, The (Rang-e khoda) (1999)</td>\n",
       "      <td>Drama</td>\n",
       "      <td>NaN</td>\n",
       "      <td>NaN</td>\n",
       "      <td>NaN</td>\n",
       "    </tr>\n",
       "  </tbody>\n",
       "</table>\n",
       "</div>"
      ],
      "text/plain": [
       "       movieId                                         title genres  userId  \\\n",
       "54467     3456  Color of Paradise, The (Rang-e khoda) (1999)  Drama     NaN   \n",
       "\n",
       "       rating  timestamp  \n",
       "54467     NaN        NaN  "
      ]
     },
     "metadata": {},
     "output_type": "display_data"
    }
   ],
   "source": [
    "#6.17.5\n",
    "#Найдите в датафрейме movies фильм с movieId=3456.\n",
    "#Какой у него год выпуска?\n",
    "    \n",
    "joined = movies.merge(ratings, how='left', on='movieId') \n",
    "df = joined[joined['movieId'] == 3456]\n",
    "\n",
    "display(df)"
   ]
  },
  {
   "cell_type": "code",
   "execution_count": 25,
   "metadata": {},
   "outputs": [
    {
     "data": {
      "text/plain": [
       "100836"
      ]
     },
     "execution_count": 25,
     "metadata": {},
     "output_type": "execute_result"
    }
   ],
   "source": [
    "#6.16.6\n",
    "#Сравните количество строк в датафрейме из задания 4 (после объединения датафреймов ratings и movies)\n",
    "    #с количеством строк в ratings. Почему в данном случае число строк увеличилось?\n",
    "\n",
    "len(ratings)"
   ]
  }
 ],
 "metadata": {
  "kernelspec": {
   "display_name": "Python 3",
   "language": "python",
   "name": "python3"
  },
  "language_info": {
   "codemirror_mode": {
    "name": "ipython",
    "version": 3
   },
   "file_extension": ".py",
   "mimetype": "text/x-python",
   "name": "python",
   "nbconvert_exporter": "python",
   "pygments_lexer": "ipython3",
   "version": "3.8.5"
  }
 },
 "nbformat": 4,
 "nbformat_minor": 4
}
