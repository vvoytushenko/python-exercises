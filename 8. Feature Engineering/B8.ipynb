{
 "cells": [
  {
   "cell_type": "code",
   "execution_count": 1,
   "metadata": {},
   "outputs": [],
   "source": [
    "import pandas as pd\n",
    "import chardet \n",
    "import numpy as np"
   ]
  },
  {
   "cell_type": "code",
   "execution_count": 2,
   "metadata": {},
   "outputs": [
    {
     "name": "stderr",
     "output_type": "stream",
     "text": [
      "C:\\Users\\vvoyt\\anaconda3\\lib\\site-packages\\pandas\\core\\strings.py:710: FutureWarning: Possible nested set at position 1\n",
      "  compiled = re.compile(pat, flags=flags)\n"
     ]
    },
    {
     "data": {
      "text/html": [
       "<div>\n",
       "<style scoped>\n",
       "    .dataframe tbody tr th:only-of-type {\n",
       "        vertical-align: middle;\n",
       "    }\n",
       "\n",
       "    .dataframe tbody tr th {\n",
       "        vertical-align: top;\n",
       "    }\n",
       "\n",
       "    .dataframe thead th {\n",
       "        text-align: right;\n",
       "    }\n",
       "</style>\n",
       "<table border=\"1\" class=\"dataframe\">\n",
       "  <thead>\n",
       "    <tr style=\"text-align: right;\">\n",
       "      <th></th>\n",
       "      <th>user_id</th>\n",
       "      <th>time</th>\n",
       "      <th>bet</th>\n",
       "      <th>win</th>\n",
       "    </tr>\n",
       "  </thead>\n",
       "  <tbody>\n",
       "    <tr>\n",
       "      <th>0</th>\n",
       "      <td>user_919</td>\n",
       "      <td>2019-01-01 14:06:51</td>\n",
       "      <td>NaN</td>\n",
       "      <td>NaN</td>\n",
       "    </tr>\n",
       "    <tr>\n",
       "      <th>1</th>\n",
       "      <td>user_973</td>\n",
       "      <td>2019-01-01 14:51:16</td>\n",
       "      <td>NaN</td>\n",
       "      <td>NaN</td>\n",
       "    </tr>\n",
       "    <tr>\n",
       "      <th>2</th>\n",
       "      <td>user_903</td>\n",
       "      <td>2019-01-01 16:31:16</td>\n",
       "      <td>NaN</td>\n",
       "      <td>NaN</td>\n",
       "    </tr>\n",
       "    <tr>\n",
       "      <th>3</th>\n",
       "      <td>user_954</td>\n",
       "      <td>2019-01-01 17:17:51</td>\n",
       "      <td>NaN</td>\n",
       "      <td>NaN</td>\n",
       "    </tr>\n",
       "    <tr>\n",
       "      <th>4</th>\n",
       "      <td>user_954</td>\n",
       "      <td>2019-01-01 21:31:18</td>\n",
       "      <td>NaN</td>\n",
       "      <td>NaN</td>\n",
       "    </tr>\n",
       "  </tbody>\n",
       "</table>\n",
       "</div>"
      ],
      "text/plain": [
       "    user_id                 time  bet  win\n",
       "0  user_919  2019-01-01 14:06:51  NaN  NaN\n",
       "1  user_973  2019-01-01 14:51:16  NaN  NaN\n",
       "2  user_903  2019-01-01 16:31:16  NaN  NaN\n",
       "3  user_954  2019-01-01 17:17:51  NaN  NaN\n",
       "4  user_954  2019-01-01 21:31:18  NaN  NaN"
      ]
     },
     "execution_count": 2,
     "metadata": {},
     "output_type": "execute_result"
    }
   ],
   "source": [
    "#Прочитаем файл в переменную log\n",
    "log = pd.read_csv('C:\\\\Users\\\\vvoyt\\\\learning\\\\python-exercises\\\\8. Feature Engineering\\\\log.csv', header=None)\n",
    "\n",
    "#Добавим названия колонок user_id, time, bet, win\n",
    "log.columns = ['user_id','time','bet','win']\n",
    "\n",
    "#Удалим значения user_id с ошибками\n",
    "#log = log[log.user_id != '#error']\n",
    "\n",
    "#Оставим в поле user_id значение типа \"user_N\", где N — значение идентификатора\n",
    "log['user_id'] = log['user_id'].apply(lambda x: x.replace('Запись пользователя № - ', ''))\n",
    "\n",
    "#Уберем начальную скобку из поля time\n",
    "log.time = log.time.str.replace(\"[[#,@,&]\", \"\")\n",
    "log.head()"
   ]
  },
  {
   "cell_type": "code",
   "execution_count": 3,
   "metadata": {},
   "outputs": [
    {
     "data": {
      "text/html": [
       "<div>\n",
       "<style scoped>\n",
       "    .dataframe tbody tr th:only-of-type {\n",
       "        vertical-align: middle;\n",
       "    }\n",
       "\n",
       "    .dataframe tbody tr th {\n",
       "        vertical-align: top;\n",
       "    }\n",
       "\n",
       "    .dataframe thead th {\n",
       "        text-align: right;\n",
       "    }\n",
       "</style>\n",
       "<table border=\"1\" class=\"dataframe\">\n",
       "  <thead>\n",
       "    <tr style=\"text-align: right;\">\n",
       "      <th></th>\n",
       "      <th>user_id</th>\n",
       "      <th>time</th>\n",
       "      <th>bet</th>\n",
       "      <th>win</th>\n",
       "    </tr>\n",
       "  </thead>\n",
       "  <tbody>\n",
       "    <tr>\n",
       "      <th>0</th>\n",
       "      <td>False</td>\n",
       "      <td>False</td>\n",
       "      <td>True</td>\n",
       "      <td>True</td>\n",
       "    </tr>\n",
       "    <tr>\n",
       "      <th>1</th>\n",
       "      <td>False</td>\n",
       "      <td>False</td>\n",
       "      <td>True</td>\n",
       "      <td>True</td>\n",
       "    </tr>\n",
       "    <tr>\n",
       "      <th>2</th>\n",
       "      <td>False</td>\n",
       "      <td>False</td>\n",
       "      <td>True</td>\n",
       "      <td>True</td>\n",
       "    </tr>\n",
       "    <tr>\n",
       "      <th>3</th>\n",
       "      <td>False</td>\n",
       "      <td>False</td>\n",
       "      <td>True</td>\n",
       "      <td>True</td>\n",
       "    </tr>\n",
       "    <tr>\n",
       "      <th>4</th>\n",
       "      <td>False</td>\n",
       "      <td>False</td>\n",
       "      <td>True</td>\n",
       "      <td>True</td>\n",
       "    </tr>\n",
       "  </tbody>\n",
       "</table>\n",
       "</div>"
      ],
      "text/plain": [
       "   user_id   time   bet   win\n",
       "0    False  False  True  True\n",
       "1    False  False  True  True\n",
       "2    False  False  True  True\n",
       "3    False  False  True  True\n",
       "4    False  False  True  True"
      ]
     },
     "execution_count": 3,
     "metadata": {},
     "output_type": "execute_result"
    }
   ],
   "source": [
    "log.head().isna()"
   ]
  },
  {
   "cell_type": "code",
   "execution_count": 4,
   "metadata": {},
   "outputs": [
    {
     "data": {
      "text/plain": [
       "15"
      ]
     },
     "execution_count": 4,
     "metadata": {},
     "output_type": "execute_result"
    }
   ],
   "source": [
    "# 10.3.1\n",
    "#Посчитайте количество пропусков в столбце time. Метод isna() есть не только у DataFrame, но и у Series.\n",
    "#Это значит, что применять его можно не только ко всей таблице, но и к каждому столбцу отдельно.\n",
    "\n",
    "log['time'].isna().sum()"
   ]
  },
  {
   "cell_type": "code",
   "execution_count": 5,
   "metadata": {},
   "outputs": [
    {
     "data": {
      "text/html": [
       "<div>\n",
       "<style scoped>\n",
       "    .dataframe tbody tr th:only-of-type {\n",
       "        vertical-align: middle;\n",
       "    }\n",
       "\n",
       "    .dataframe tbody tr th {\n",
       "        vertical-align: top;\n",
       "    }\n",
       "\n",
       "    .dataframe thead th {\n",
       "        text-align: right;\n",
       "    }\n",
       "</style>\n",
       "<table border=\"1\" class=\"dataframe\">\n",
       "  <thead>\n",
       "    <tr style=\"text-align: right;\">\n",
       "      <th></th>\n",
       "      <th>user_id</th>\n",
       "    </tr>\n",
       "  </thead>\n",
       "  <tbody>\n",
       "    <tr>\n",
       "      <th>0</th>\n",
       "      <td>user_919</td>\n",
       "    </tr>\n",
       "    <tr>\n",
       "      <th>1</th>\n",
       "      <td>user_973</td>\n",
       "    </tr>\n",
       "    <tr>\n",
       "      <th>2</th>\n",
       "      <td>user_903</td>\n",
       "    </tr>\n",
       "    <tr>\n",
       "      <th>3</th>\n",
       "      <td>user_954</td>\n",
       "    </tr>\n",
       "    <tr>\n",
       "      <th>4</th>\n",
       "      <td>user_954</td>\n",
       "    </tr>\n",
       "    <tr>\n",
       "      <th>...</th>\n",
       "      <td>...</td>\n",
       "    </tr>\n",
       "    <tr>\n",
       "      <th>995</th>\n",
       "      <td>user_984</td>\n",
       "    </tr>\n",
       "    <tr>\n",
       "      <th>996</th>\n",
       "      <td>#error</td>\n",
       "    </tr>\n",
       "    <tr>\n",
       "      <th>997</th>\n",
       "      <td>#error</td>\n",
       "    </tr>\n",
       "    <tr>\n",
       "      <th>998</th>\n",
       "      <td>#error</td>\n",
       "    </tr>\n",
       "    <tr>\n",
       "      <th>999</th>\n",
       "      <td>#error</td>\n",
       "    </tr>\n",
       "  </tbody>\n",
       "</table>\n",
       "<p>1000 rows × 1 columns</p>\n",
       "</div>"
      ],
      "text/plain": [
       "      user_id\n",
       "0    user_919\n",
       "1    user_973\n",
       "2    user_903\n",
       "3    user_954\n",
       "4    user_954\n",
       "..        ...\n",
       "995  user_984\n",
       "996    #error\n",
       "997    #error\n",
       "998    #error\n",
       "999    #error\n",
       "\n",
       "[1000 rows x 1 columns]"
      ]
     },
     "execution_count": 5,
     "metadata": {},
     "output_type": "execute_result"
    }
   ],
   "source": [
    "#10.3.2\n",
    "#Удалите все столбцы, где есть пропуски. Запишите в поле, сколько осталось столбцов в данных после этого.\n",
    "#Используйте оригинальный датасет log.csv.\n",
    "\n",
    "log.dropna(axis=1)"
   ]
  },
  {
   "cell_type": "code",
   "execution_count": 6,
   "metadata": {},
   "outputs": [
    {
     "data": {
      "text/plain": [
       "133"
      ]
     },
     "execution_count": 6,
     "metadata": {},
     "output_type": "execute_result"
    }
   ],
   "source": [
    "#10.3.3\n",
    "#Удалите все строки, где есть пропуски. Запишите в поле, сколько осталось строк в данных после этого.\n",
    "#Используйте оригинальный датасет log.csv.\n",
    "\n",
    "len(log.dropna(axis=0))"
   ]
  },
  {
   "cell_type": "code",
   "execution_count": 7,
   "metadata": {},
   "outputs": [],
   "source": [
    "#10.3.4\n",
    "#С признаками bet и win мы разберемся позже: пропуски в этих столбцах требуют особого подхода.\n",
    "#Проверьте, есть ли пропуски в столбцах user_id и time. Если в столбце есть пропуски, удалите его.\n",
    "#Сколько столбцов осталось в данных после этого?\n",
    "\n",
    "\n",
    "#log.dropna(subset=['user_id', 'time'])"
   ]
  },
  {
   "cell_type": "code",
   "execution_count": 8,
   "metadata": {},
   "outputs": [
    {
     "data": {
      "text/html": [
       "<div>\n",
       "<style scoped>\n",
       "    .dataframe tbody tr th:only-of-type {\n",
       "        vertical-align: middle;\n",
       "    }\n",
       "\n",
       "    .dataframe tbody tr th {\n",
       "        vertical-align: top;\n",
       "    }\n",
       "\n",
       "    .dataframe thead th {\n",
       "        text-align: right;\n",
       "    }\n",
       "</style>\n",
       "<table border=\"1\" class=\"dataframe\">\n",
       "  <thead>\n",
       "    <tr style=\"text-align: right;\">\n",
       "      <th></th>\n",
       "      <th>user_id</th>\n",
       "      <th>time</th>\n",
       "      <th>bet</th>\n",
       "      <th>win</th>\n",
       "    </tr>\n",
       "  </thead>\n",
       "  <tbody>\n",
       "    <tr>\n",
       "      <th>0</th>\n",
       "      <td>user_919</td>\n",
       "      <td>2019-01-01 14:06:51</td>\n",
       "      <td>NaN</td>\n",
       "      <td>NaN</td>\n",
       "    </tr>\n",
       "    <tr>\n",
       "      <th>1</th>\n",
       "      <td>user_973</td>\n",
       "      <td>2019-01-01 14:51:16</td>\n",
       "      <td>NaN</td>\n",
       "      <td>NaN</td>\n",
       "    </tr>\n",
       "    <tr>\n",
       "      <th>2</th>\n",
       "      <td>user_903</td>\n",
       "      <td>2019-01-01 16:31:16</td>\n",
       "      <td>NaN</td>\n",
       "      <td>NaN</td>\n",
       "    </tr>\n",
       "    <tr>\n",
       "      <th>3</th>\n",
       "      <td>user_954</td>\n",
       "      <td>2019-01-01 17:17:51</td>\n",
       "      <td>NaN</td>\n",
       "      <td>NaN</td>\n",
       "    </tr>\n",
       "    <tr>\n",
       "      <th>4</th>\n",
       "      <td>user_954</td>\n",
       "      <td>2019-01-01 21:31:18</td>\n",
       "      <td>NaN</td>\n",
       "      <td>NaN</td>\n",
       "    </tr>\n",
       "    <tr>\n",
       "      <th>...</th>\n",
       "      <td>...</td>\n",
       "      <td>...</td>\n",
       "      <td>...</td>\n",
       "      <td>...</td>\n",
       "    </tr>\n",
       "    <tr>\n",
       "      <th>991</th>\n",
       "      <td>user_965</td>\n",
       "      <td>2019-04-20 12:55:41</td>\n",
       "      <td>800.0</td>\n",
       "      <td>6927.0</td>\n",
       "    </tr>\n",
       "    <tr>\n",
       "      <th>992</th>\n",
       "      <td>user_967</td>\n",
       "      <td>2019-04-20 14:59:36</td>\n",
       "      <td>10154.0</td>\n",
       "      <td>NaN</td>\n",
       "    </tr>\n",
       "    <tr>\n",
       "      <th>993</th>\n",
       "      <td>user_973</td>\n",
       "      <td>2019-04-20 17:09:56</td>\n",
       "      <td>10254.0</td>\n",
       "      <td>NaN</td>\n",
       "    </tr>\n",
       "    <tr>\n",
       "      <th>994</th>\n",
       "      <td>user_977</td>\n",
       "      <td>2019-04-20 18:10:07</td>\n",
       "      <td>10354.0</td>\n",
       "      <td>NaN</td>\n",
       "    </tr>\n",
       "    <tr>\n",
       "      <th>995</th>\n",
       "      <td>user_984</td>\n",
       "      <td>2019-04-20 9:59:58</td>\n",
       "      <td>9754.0</td>\n",
       "      <td>NaN</td>\n",
       "    </tr>\n",
       "  </tbody>\n",
       "</table>\n",
       "<p>986 rows × 4 columns</p>\n",
       "</div>"
      ],
      "text/plain": [
       "      user_id                 time      bet     win\n",
       "0    user_919  2019-01-01 14:06:51      NaN     NaN\n",
       "1    user_973  2019-01-01 14:51:16      NaN     NaN\n",
       "2    user_903  2019-01-01 16:31:16      NaN     NaN\n",
       "3    user_954  2019-01-01 17:17:51      NaN     NaN\n",
       "4    user_954  2019-01-01 21:31:18      NaN     NaN\n",
       "..        ...                  ...      ...     ...\n",
       "991  user_965  2019-04-20 12:55:41    800.0  6927.0\n",
       "992  user_967  2019-04-20 14:59:36  10154.0     NaN\n",
       "993  user_973  2019-04-20 17:09:56  10254.0     NaN\n",
       "994  user_977  2019-04-20 18:10:07  10354.0     NaN\n",
       "995  user_984   2019-04-20 9:59:58   9754.0     NaN\n",
       "\n",
       "[986 rows x 4 columns]"
      ]
     },
     "execution_count": 8,
     "metadata": {},
     "output_type": "execute_result"
    }
   ],
   "source": [
    "#10.4.1\n",
    "#Удалите дубли среди столбцов user_id и time. Запишите в поле ниже, сколько осталось строк после удаления дублей.\n",
    "#Используйте оригинальный датасет log.csv.\n",
    "\n",
    "log.drop_duplicates(subset=['user_id', 'time'])"
   ]
  },
  {
   "cell_type": "code",
   "execution_count": 9,
   "metadata": {},
   "outputs": [
    {
     "data": {
      "text/plain": [
       "datetime.date(2019, 4, 20)"
      ]
     },
     "execution_count": 9,
     "metadata": {},
     "output_type": "execute_result"
    }
   ],
   "source": [
    "#10.5.1\n",
    "#Уберите лишний символ, преобразуйте признак time к datetime. После этого найдите наибольшую дату и выведите ее без времени.\n",
    "#Подсказка: можно применить метод max() к получившемуся столбцу со временем.\n",
    "#Не забудьте избавиться от пропусков.\n",
    "#Запишите ответ в формате \"YYYY-MM-DD\"\n",
    "\n",
    "log = pd.read_csv('C:\\\\Users\\\\vvoyt\\\\learning\\\\python-exercises\\\\8. Feature Engineering\\\\log.csv', header=None)\n",
    "log.columns = ['user_id','time','bet','win']\n",
    "log['user_id'] = log['user_id'].apply(lambda x: x.replace('Запись пользователя № - ', ''))\n",
    "\n",
    "log.time = log.time.str.replace(\"[[#,@,&]\", \"\") #Убираем лишние символы из даты\n",
    "pd.to_datetime(log['time'], format=\"%Y-%m-%d\").max().date()"
   ]
  },
  {
   "cell_type": "code",
   "execution_count": 10,
   "metadata": {},
   "outputs": [
    {
     "data": {
      "text/plain": [
       "13     57\n",
       "28     59\n",
       "150    54\n",
       "188    34\n",
       "204    26\n",
       "Name: time, dtype: int64"
      ]
     },
     "execution_count": 10,
     "metadata": {},
     "output_type": "execute_result"
    }
   ],
   "source": [
    "#10.5.2\n",
    "#Посмотрите на изображение и код выше.\n",
    "#Какую строчку надо написать вместо пропущенной строки, чтобы получитьвывод как на изображении?\n",
    "\n",
    "log = pd.read_csv('C:\\\\Users\\\\vvoyt\\\\learning\\\\python-exercises\\\\8. Feature Engineering\\\\log.csv')  \n",
    "log = log.dropna()  \n",
    "log.columns = ['user_id', 'time', 'bet', 'win']  \n",
    "log['time'] = log['time'].apply(lambda x: x[1:])  \n",
    "log['time'] = pd.to_datetime(log['time'])  \n",
    "# Пропущенная строка  \n",
    "log['time'] = log.time.apply(lambda x: x.minute) #log.time = log.time.apply(lambda x: x.minute)\n",
    "log['time'].head() "
   ]
  },
  {
   "cell_type": "markdown",
   "metadata": {},
   "source": [
    "### "
   ]
  },
  {
   "cell_type": "code",
   "execution_count": 11,
   "metadata": {},
   "outputs": [
    {
     "data": {
      "text/plain": [
       "36.0"
      ]
     },
     "execution_count": 11,
     "metadata": {},
     "output_type": "execute_result"
    }
   ],
   "source": [
    "#10.6.1\n",
    "#Используйте оригинальные данные log.csv, столбец time.\n",
    "#Найдите минуту, которая встречалась в данных чаще всего. Введите ответ в поле ниже.\n",
    "#Подсказка: можно использовать value_counts().\n",
    "\n",
    "log = pd.read_csv('C:\\\\Users\\\\vvoyt\\\\learning\\\\python-exercises\\\\8. Feature Engineering\\\\log.csv')  \n",
    "log.columns = ['user_id', 'time', 'bet', 'win'] \n",
    "\n",
    "log['user_id'] = log['user_id'].apply(lambda x: x.replace('Запись пользователя № - ', ''))\n",
    "log.time = log.time.str.replace(\"[[#,@,&]\", \"\") #Убираем лишние символы из даты\n",
    "\n",
    "log['time'] = pd.to_datetime(log['time'])\n",
    "log['time'].dt.minute.value_counts().index[0]"
   ]
  },
  {
   "cell_type": "code",
   "execution_count": 12,
   "metadata": {},
   "outputs": [
    {
     "data": {
      "text/plain": [
       "4.0"
      ]
     },
     "execution_count": 12,
     "metadata": {},
     "output_type": "execute_result"
    }
   ],
   "source": [
    "#10.6.2\n",
    "#Используйте оригинальные данные log.csv, столбец time.\n",
    "#Найдите месяц, который встречался в данных реже всего. Введите ответ в поле ниже.\n",
    "#Подсказка: можно использовать value_counts().\n",
    "\n",
    "log = pd.read_csv('C:\\\\Users\\\\vvoyt\\\\learning\\\\python-exercises\\\\8. Feature Engineering\\\\log.csv')  \n",
    "log.columns = ['user_id', 'time', 'bet', 'win'] \n",
    "\n",
    "log['user_id'] = log['user_id'].apply(lambda x: x.replace('Запись пользователя № - ', ''))\n",
    "log.time = log.time.str.replace(\"[[#,@,&]\", \"\") #Убираем лишние символы из даты  \n",
    "\n",
    "log['time'] = pd.to_datetime(log['time'])\n",
    "log['time'].dt.month.value_counts().index[-1]"
   ]
  },
  {
   "cell_type": "code",
   "execution_count": 13,
   "metadata": {},
   "outputs": [
    {
     "data": {
      "text/plain": [
       "283"
      ]
     },
     "execution_count": 13,
     "metadata": {},
     "output_type": "execute_result"
    }
   ],
   "source": [
    "#10.6.3\n",
    "#Используйте оригинальные данные log.csv, столбец time.\n",
    "#Посчитайте, сколько дней в данных являются выходными (то есть, суббота или воскресенье). Введите ответ в поле ниже.\n",
    "#Подсказка: можно использовать sum().\n",
    "\n",
    "log = pd.read_csv('C:\\\\Users\\\\vvoyt\\\\learning\\\\python-exercises\\\\8. Feature Engineering\\\\log.csv')  \n",
    "log.columns = ['user_id', 'time', 'bet', 'win'] \n",
    "\n",
    "log['user_id'] = log['user_id'].apply(lambda x: x.replace('Запись пользователя № - ', ''))\n",
    "log.time = log.time.str.replace(\"[[#,@,&]\", \"\") #Убираем лишние символы из даты  \n",
    "\n",
    "\n",
    "log['time'] = pd.to_datetime(log['time'])\n",
    "weekends = log[(log.time.dt.weekday == 5)|(log.time.dt.weekday == 6)]\n",
    "len(weekends)"
   ]
  },
  {
   "cell_type": "code",
   "execution_count": 14,
   "metadata": {},
   "outputs": [
    {
     "data": {
      "text/plain": [
       "'вечер'"
      ]
     },
     "execution_count": 14,
     "metadata": {},
     "output_type": "execute_result"
    }
   ],
   "source": [
    "#10.6.4\n",
    "#Используйте оригинальные данные log.csv, столбец time.\n",
    "#Договоримся, что с 0 до 5 часов — ночь, с 6 до 11 — утро, с 12 до 17 — день, с 18 до 23 — вечер.\n",
    "#Важно: для выполнения задания вам нужно будет избавиться от пропусков только в столбце time.\n",
    "    #Вспомните, как избавиться от пропусков только по конкретному признаку.\n",
    "#Посчитайте, какое время дня встречается в данных реже всего. Введите ответ в поле ниже.\n",
    "    #Ответ должен быть один из: ночь, утро, день, вечер.\n",
    "#Подсказка: можно использовать value_counts(). Кроме этого, потребуется написать функцию,\n",
    "    #которая преобразует дату во время дня.\n",
    "log = pd.read_csv('C:\\\\Users\\\\vvoyt\\\\learning\\\\python-exercises\\\\8. Feature Engineering\\\\log.csv')  \n",
    "log.columns = ['user_id', 'time', 'bet', 'win'] \n",
    "\n",
    "log['user_id'] = log['user_id'].apply(lambda x: x.replace('Запись пользователя № - ', ''))\n",
    "log.time = log.time.str.replace(\"[[#,@,&]\", \"\") #Убираем лишние символы из даты  \n",
    "log['time'] = pd.to_datetime(log['time'])\n",
    "log['time'].dropna(axis=0)\n",
    "\n",
    "conditions = [\n",
    "    (log['time'].dt.hour >= 0) & (log['time'].dt.hour <= 5),\n",
    "    (log['time'].dt.hour >= 6) & (log['time'].dt.hour <= 11),\n",
    "    (log['time'].dt.hour >= 12) & (log['time'].dt.hour <= 17),\n",
    "    (log['time'].dt.hour >= 18) & (log['time'].dt.hour <= 23)\n",
    "]\n",
    "choices = ['ночь', 'утро', 'день', 'вечер']\n",
    "log['day_time'] = np.select(conditions, choices, default='не определено')\n",
    "\n",
    "log['day_time'].value_counts().index[-2]"
   ]
  },
  {
   "cell_type": "code",
   "execution_count": 15,
   "metadata": {
    "scrolled": true
   },
   "outputs": [
    {
     "data": {
      "text/html": [
       "<div>\n",
       "<style scoped>\n",
       "    .dataframe tbody tr th:only-of-type {\n",
       "        vertical-align: middle;\n",
       "    }\n",
       "\n",
       "    .dataframe tbody tr th {\n",
       "        vertical-align: top;\n",
       "    }\n",
       "\n",
       "    .dataframe thead th {\n",
       "        text-align: right;\n",
       "    }\n",
       "</style>\n",
       "<table border=\"1\" class=\"dataframe\">\n",
       "  <thead>\n",
       "    <tr style=\"text-align: right;\">\n",
       "      <th></th>\n",
       "      <th>user_id</th>\n",
       "      <th>time</th>\n",
       "      <th>bet</th>\n",
       "      <th>win</th>\n",
       "      <th>hour</th>\n",
       "    </tr>\n",
       "  </thead>\n",
       "  <tbody>\n",
       "    <tr>\n",
       "      <th>0</th>\n",
       "      <td>Запись пользователя № - user_973</td>\n",
       "      <td>2019-01-01 14:51:16</td>\n",
       "      <td>NaN</td>\n",
       "      <td>NaN</td>\n",
       "      <td>14.0</td>\n",
       "    </tr>\n",
       "    <tr>\n",
       "      <th>1</th>\n",
       "      <td>Запись пользователя № - user_903</td>\n",
       "      <td>2019-01-01 16:31:16</td>\n",
       "      <td>NaN</td>\n",
       "      <td>NaN</td>\n",
       "      <td>16.0</td>\n",
       "    </tr>\n",
       "    <tr>\n",
       "      <th>2</th>\n",
       "      <td>Запись пользователя № - user_954</td>\n",
       "      <td>2019-01-01 17:17:51</td>\n",
       "      <td>NaN</td>\n",
       "      <td>NaN</td>\n",
       "      <td>17.0</td>\n",
       "    </tr>\n",
       "    <tr>\n",
       "      <th>3</th>\n",
       "      <td>Запись пользователя № - user_954</td>\n",
       "      <td>2019-01-01 21:31:18</td>\n",
       "      <td>NaN</td>\n",
       "      <td>NaN</td>\n",
       "      <td>21.0</td>\n",
       "    </tr>\n",
       "    <tr>\n",
       "      <th>4</th>\n",
       "      <td>Запись пользователя № - user_917</td>\n",
       "      <td>2019-01-01 23:34:55</td>\n",
       "      <td>156789.0</td>\n",
       "      <td>NaN</td>\n",
       "      <td>23.0</td>\n",
       "    </tr>\n",
       "    <tr>\n",
       "      <th>...</th>\n",
       "      <td>...</td>\n",
       "      <td>...</td>\n",
       "      <td>...</td>\n",
       "      <td>...</td>\n",
       "      <td>...</td>\n",
       "    </tr>\n",
       "    <tr>\n",
       "      <th>994</th>\n",
       "      <td>Запись пользователя № - user_984</td>\n",
       "      <td>2019-04-20 09:59:58</td>\n",
       "      <td>9754.0</td>\n",
       "      <td>NaN</td>\n",
       "      <td>9.0</td>\n",
       "    </tr>\n",
       "    <tr>\n",
       "      <th>995</th>\n",
       "      <td>#error</td>\n",
       "      <td>NaT</td>\n",
       "      <td>10054.0</td>\n",
       "      <td>29265.0</td>\n",
       "      <td>NaN</td>\n",
       "    </tr>\n",
       "    <tr>\n",
       "      <th>996</th>\n",
       "      <td>#error</td>\n",
       "      <td>NaT</td>\n",
       "      <td>10454.0</td>\n",
       "      <td>NaN</td>\n",
       "      <td>NaN</td>\n",
       "    </tr>\n",
       "    <tr>\n",
       "      <th>997</th>\n",
       "      <td>#error</td>\n",
       "      <td>NaT</td>\n",
       "      <td>1000.0</td>\n",
       "      <td>NaN</td>\n",
       "      <td>NaN</td>\n",
       "    </tr>\n",
       "    <tr>\n",
       "      <th>998</th>\n",
       "      <td>#error</td>\n",
       "      <td>NaT</td>\n",
       "      <td>10754.0</td>\n",
       "      <td>NaN</td>\n",
       "      <td>NaN</td>\n",
       "    </tr>\n",
       "  </tbody>\n",
       "</table>\n",
       "<p>999 rows × 5 columns</p>\n",
       "</div>"
      ],
      "text/plain": [
       "                              user_id                time       bet      win  \\\n",
       "0    Запись пользователя № - user_973 2019-01-01 14:51:16       NaN      NaN   \n",
       "1    Запись пользователя № - user_903 2019-01-01 16:31:16       NaN      NaN   \n",
       "2    Запись пользователя № - user_954 2019-01-01 17:17:51       NaN      NaN   \n",
       "3    Запись пользователя № - user_954 2019-01-01 21:31:18       NaN      NaN   \n",
       "4    Запись пользователя № - user_917 2019-01-01 23:34:55  156789.0      NaN   \n",
       "..                                ...                 ...       ...      ...   \n",
       "994  Запись пользователя № - user_984 2019-04-20 09:59:58    9754.0      NaN   \n",
       "995                            #error                 NaT   10054.0  29265.0   \n",
       "996                            #error                 NaT   10454.0      NaN   \n",
       "997                            #error                 NaT    1000.0      NaN   \n",
       "998                            #error                 NaT   10754.0      NaN   \n",
       "\n",
       "     hour  \n",
       "0    14.0  \n",
       "1    16.0  \n",
       "2    17.0  \n",
       "3    21.0  \n",
       "4    23.0  \n",
       "..    ...  \n",
       "994   9.0  \n",
       "995   NaN  \n",
       "996   NaN  \n",
       "997   NaN  \n",
       "998   NaN  \n",
       "\n",
       "[999 rows x 5 columns]"
      ]
     },
     "execution_count": 15,
     "metadata": {},
     "output_type": "execute_result"
    }
   ],
   "source": [
    "#10.6.5\n",
    "#Давайте повторим пройденное. Напишите код, который создаст признак hour из признака time в датасете log.csv. Для этого:\n",
    "#1. Загрузите датасет log.csv в переменную log, дальше работать будем с ней;\n",
    "log = pd.read_csv('C:\\\\Users\\\\vvoyt\\\\learning\\\\python-exercises\\\\8. Feature Engineering\\\\log.csv') \n",
    "\n",
    "#2. Установите имена столбцов: ['user_id', 'time', 'bet', 'win'];\n",
    "log.columns = ['user_id', 'time', 'bet', 'win'] \n",
    "\n",
    "#3. Избавьтесь от пропусков в log;\n",
    "log.dropna(axis=0)\n",
    "\n",
    "#4. Приведите переменную time к подходящему для извлечения признаков виду;\n",
    "log.time = log.time.str.replace(\"[[#,@,&]\", \"\")\n",
    "log['time'] = pd.to_datetime(log['time'])\n",
    "\n",
    "#5. Получите значение часа для каждой строки в переменной time и запишите в столбец hour в log;\n",
    "log['hour'] = log['time'].dt.hour\n",
    "\n",
    "#6. Результатом будет таблица log со столбцом hour внутри.\n",
    "log"
   ]
  },
  {
   "cell_type": "code",
   "execution_count": 16,
   "metadata": {},
   "outputs": [
    {
     "data": {
      "text/plain": [
       "514"
      ]
     },
     "execution_count": 16,
     "metadata": {},
     "output_type": "execute_result"
    }
   ],
   "source": [
    "#10.7.1\n",
    "#Используйте оригинальный датасет log.csv. Результат запишите числом в поле ниже.\n",
    "#Подсказка: можно использовать value_counts().\n",
    "#Посчитайте, сколько раз люди приходили, но не делали ставок. \n",
    "    #Для этого заполните пропуски в столбце bet значением 0 и посчитайте количество таких значений.\n",
    "\n",
    "log2 = pd.read_csv('C:\\\\Users\\\\vvoyt\\\\learning\\\\python-exercises\\\\8. Feature Engineering\\\\log.csv') \n",
    "log2.columns = ['user_id', 'time', 'bet', 'win'] \n",
    "#log2['user_id'] = log2['user_id'].apply(lambda x: x.replace('Запись пользователя № - ', ''))\n",
    "log2.time = log2.time.str.replace(\"[[#,@,&]\", \"\") #Убираем лишние символы из даты  \n",
    "\n",
    "log2['bet'] = log2['bet'].astype('Int64').fillna(0)\n",
    "len(log2[log2['bet'] == 0])"
   ]
  },
  {
   "cell_type": "code",
   "execution_count": 17,
   "metadata": {},
   "outputs": [
    {
     "data": {
      "text/plain": [
       "347"
      ]
     },
     "execution_count": 17,
     "metadata": {},
     "output_type": "execute_result"
    }
   ],
   "source": [
    "# 10.7.2\n",
    "#Используйте оригинальный датасет log.csv. Проделайте с ним действия из Задания 10.7.1\n",
    "    #и из пункта \"Заполнение с помощью функции\". Это значит, что пропуски в столбцах bet и win у вас будут заполнены.\n",
    "#Посчитайте, сколько раз участники ставок проиграли деньги.\n",
    "    #То есть посчитайте количество строк, для которых в столбце win находится отрицательное значение.\n",
    "#Подсказка: можно использовать sum().\n",
    "#Результат запишите числом в поле ниже.\n",
    "    \n",
    "log2 = pd.read_csv('C:\\\\Users\\\\vvoyt\\\\learning\\\\python-exercises\\\\8. Feature Engineering\\\\log.csv') \n",
    "log2.columns = ['user_id', 'time', 'bet', 'win'] \n",
    "log2['user_id'] = log2['user_id'].apply(lambda x: x.replace('Запись пользователя № - ', ''))\n",
    "log2.time = log2.time.str.replace(\"[[#,@,&]\", \"\") #Убираем лишние символы из даты  \n",
    "\n",
    "log2['bet'] = log2['bet'].astype('Int64').fillna(0)\n",
    "log2['win'] = log2['win'].astype('Int64').fillna(0)\n",
    "log2['profit'] = log2['win'] - log2['bet']\n",
    "\n",
    "log2[(log2.profit < 0)].profit.count()"
   ]
  },
  {
   "cell_type": "code",
   "execution_count": 18,
   "metadata": {},
   "outputs": [
    {
     "data": {
      "text/plain": [
       "138"
      ]
     },
     "execution_count": 18,
     "metadata": {},
     "output_type": "execute_result"
    }
   ],
   "source": [
    "#10.8.1\n",
    "#Используйте модифицированный в прошлой секции датасет log.csv. Результат запишите числом в поле ниже.\n",
    "#Подсказка: можно использовать sum().\n",
    "#Создайте признак net, хранящий сумму выигрыша с учетом ставки. \n",
    "    #Для этого из признака win поэлементно вычтите признак bet и запишите в новый столбец. После этого посчитайте, \n",
    "    #у скольких людей выигрыш положительный.\n",
    "\n",
    "log2[(log2.profit > 0)].profit.count()"
   ]
  },
  {
   "cell_type": "code",
   "execution_count": 19,
   "metadata": {},
   "outputs": [
    {
     "data": {
      "text/plain": [
       "80253.33333333333"
      ]
     },
     "execution_count": 19,
     "metadata": {},
     "output_type": "execute_result"
    }
   ],
   "source": [
    "#10.8.2\n",
    "#Используйте датасет log.csv, получившийся в результате выполнения предыдущего задания. \n",
    "#Посчитайте среднее значение выигрыша (из столбца net) в тех случаях, когда выигрыш больше 0. \n",
    "#Введите ответ не округляя, отбросив дробную часть.\n",
    "#Подсказка: можно использовать mean().\n",
    "\n",
    "log2[(log2['profit'] > 0)].profit.mean()"
   ]
  },
  {
   "cell_type": "code",
   "execution_count": 20,
   "metadata": {},
   "outputs": [
    {
     "data": {
      "text/plain": [
       "5347.0"
      ]
     },
     "execution_count": 20,
     "metadata": {},
     "output_type": "execute_result"
    }
   ],
   "source": [
    "#10.8.3\n",
    "#Используйте датасет log.csv, получившийся в результате выполнения первого задания этого блока.\n",
    "#Посчитайте медианное значение выигрыша (из столбца net) в тех случаях, когда выигрыш больше 0.\n",
    "#Введите ответ не округляя, отбросив дробную часть.\n",
    "\n",
    "#Подсказка: можно использовать median().\n",
    "\n",
    "log2[(log2['profit'] > 0)].profit.median()"
   ]
  },
  {
   "cell_type": "code",
   "execution_count": 21,
   "metadata": {},
   "outputs": [
    {
     "name": "stdout",
     "output_type": "stream",
     "text": [
      "48.5\n"
     ]
    }
   ],
   "source": [
    "#10.9.1\n",
    "#Используйте модифицированный датасет log.csv.\n",
    "#При модификации датасета log.csv, пропущенные значения в столбцах bet и win замените на 0,\n",
    "    #cоздайте столбец net, хранящий сумму выигрыша с учетом ставки (для этого из столбца win поэлементно вычтите\n",
    "    #столбец bet и запишите в новый столбец).\n",
    "#Посчитайте, какой процент посещений букмекерской конторы оборачивался ставкой.\n",
    "    #Для этого поделите количество ставок (значений больше 0) на общее количество посещений конторы.\n",
    "    #Результат округлите до одного знака после запятой.\n",
    "\n",
    "a = log2[(log2.bet > 0)].bet.count() / log2.user_id.count() * 100\n",
    "print (\"%.1f\" % a)"
   ]
  },
  {
   "cell_type": "code",
   "execution_count": 22,
   "metadata": {},
   "outputs": [
    {
     "data": {
      "text/plain": [
       "6785.738144329897"
      ]
     },
     "execution_count": 22,
     "metadata": {},
     "output_type": "execute_result"
    }
   ],
   "source": [
    "#10.9.2\n",
    "#Используйте датасет log.csv, получившийся в результате модификации при выполнении первого задания этого блока.\n",
    "#Посчитайте среднее значение ставки (из столбца bet) в тех случаях, когда ставка была сделана.\n",
    "    #Введите ответ, не округляя, но отбросив дробную часть.\n",
    "#Подсказка: можно использовать mean().\n",
    "\n",
    "log2[(log2.bet > 0)].bet.mean()"
   ]
  },
  {
   "cell_type": "code",
   "execution_count": 23,
   "metadata": {},
   "outputs": [
    {
     "data": {
      "text/plain": [
       "20421.892783505155"
      ]
     },
     "execution_count": 23,
     "metadata": {},
     "output_type": "execute_result"
    }
   ],
   "source": [
    "#10.9.3\n",
    "#Используйте датасет log.csv, получившийся в результате модификации при выполнении первого задания этого блока.\n",
    "#Посчитайте средний выигрыш (из столбца net) в тех случаях, когда ставка была сделана.\n",
    "#Пояснение: выигрыш в данном случае означает изменение количества денег и может быть отрицательным.\n",
    "    #В таком случае это проигрыш.\n",
    "\n",
    "log2[(log2.profit > 0) | (log2.profit < 0) ].profit.mean()"
   ]
  },
  {
   "cell_type": "code",
   "execution_count": 24,
   "metadata": {},
   "outputs": [
    {
     "data": {
      "text/plain": [
       "-3372.743515850144"
      ]
     },
     "execution_count": 24,
     "metadata": {},
     "output_type": "execute_result"
    }
   ],
   "source": [
    "#10.9.4\n",
    "#Используйте датасет log.csv, получившийся в результате модификации при выполнении первого задания этого блока.\n",
    "#Посчитайте средний размер потерь при проигрыше (из столбца net). Введите ответ, не округляя, но отбросив дробную часть.\n",
    "#Пояснение: ответ должен быть дан в виде отрицательного числа.\n",
    "\n",
    "log2[(log2.profit < 0)].profit.mean()"
   ]
  },
  {
   "cell_type": "code",
   "execution_count": 25,
   "metadata": {},
   "outputs": [
    {
     "name": "stdout",
     "output_type": "stream",
     "text": [
      "Кол-во проигрышей: 347\n",
      "Кол-во выигрышей: 138\n"
     ]
    }
   ],
   "source": [
    "#10.9.5\n",
    "#Посчитайте, какой процент ставок заканчивается выигрышем, а какой - проигрышем.\n",
    "#Сравните эти значения и ответьте, какое из них больше.\n",
    "\n",
    "\n",
    "print(\"Кол-во проигрышей:\", log2[(log2.profit < 0)].profit.count())\n",
    "print(\"Кол-во выигрышей:\",log2[(log2.profit > 0)].profit.count())"
   ]
  },
  {
   "cell_type": "code",
   "execution_count": 26,
   "metadata": {},
   "outputs": [],
   "source": [
    "#10.9.6\n",
    "#Давайте повторим то, что мы прошли в этой секции. Н\n",
    "#апишите код, который узнает, чему была равна минимальная ставка и сколько людей сделали такую ставку. Для этого:\n",
    "\n",
    "#1. Загрузите датасет log.csv;\n",
    "log = pd.read_csv('C:\\\\Users\\\\vvoyt\\\\learning\\\\python-exercises\\\\8. Feature Engineering\\\\log.csv') \n",
    "log.columns = ['user_id', 'time', 'bet', 'win'] \n",
    "\n",
    "#2. Посчитайте, чему равна минимальная ставка;\n",
    "min_bet = log.bet.min()\n",
    "\n",
    "#3. Посчитайте, сколько раз была сделана минимальная ставка и запишите результат в переменную min_bet_amount в виде целого числа.\n",
    "min_bet_amount = log[(log.bet == min_bet)].bet.count()"
   ]
  },
  {
   "cell_type": "code",
   "execution_count": 27,
   "metadata": {},
   "outputs": [
    {
     "data": {
      "text/plain": [
       "user_id    974\n",
       "time       974\n",
       "bet        470\n",
       "win        132\n",
       "email      966\n",
       "geo        949\n",
       "dtype: int64"
      ]
     },
     "execution_count": 27,
     "metadata": {},
     "output_type": "execute_result"
    }
   ],
   "source": [
    "#10.10.1\n",
    "#Объедините датасеты log.csv и users.csv по признаку user_id по примеру выше. Ответ запишите в поле ниже.\n",
    "#Запишите количество строк в получившейся таблице.\n",
    "\n",
    "log = pd.read_csv('C:\\\\Users\\\\vvoyt\\\\learning\\\\python-exercises\\\\8. Feature Engineering\\\\log.csv') \n",
    "log.columns = ['user_id', 'time', 'bet', 'win'] \n",
    "\n",
    "\n",
    "users = pd.read_csv('C:\\\\Users\\\\vvoyt\\\\learning\\\\python-exercises\\\\8. Feature Engineering\\\\users.csv', encoding='KOI8-R', sep='\\t')\n",
    "users.columns = ['user_id', 'email', 'geo']\n",
    "\n",
    "#Приведем признак user_id к одному формату в обоих датасетах  \n",
    "users.user_id = users.user_id.apply(lambda x: x.lower())  \n",
    "\n",
    "#Избавимся от ошибок в user_id  \n",
    "log = log[log.user_id != '#error']  \n",
    "log.user_id = log.user_id.str.split(' - ').apply(lambda x: x[1])  \n",
    "\n",
    "#Уберём лишние символы из 'time'\n",
    "log.time = log.time.str.replace(\"[[#,@,&]\", \"\")\n",
    "\n",
    "log_users = pd.merge(log, users, on='user_id')\n",
    "log_users.count()"
   ]
  },
  {
   "cell_type": "code",
   "execution_count": 28,
   "metadata": {},
   "outputs": [
    {
     "data": {
      "text/plain": [
       "5951.75"
      ]
     },
     "execution_count": 28,
     "metadata": {},
     "output_type": "execute_result"
    }
   ],
   "source": [
    "log_users.groupby('user_id').win.median().median()  "
   ]
  },
  {
   "cell_type": "code",
   "execution_count": 29,
   "metadata": {},
   "outputs": [
    {
     "data": {
      "text/plain": [
       "1986.0"
      ]
     },
     "execution_count": 29,
     "metadata": {},
     "output_type": "execute_result"
    }
   ],
   "source": [
    "#10.11.1\n",
    "#Используйте датасет, который получился в результате всех преобразований выше (в том числе заполнение пропусков).\n",
    "    #Ответ запишите в поле ниже в виде целого числа (отбросьте дробную часть).\n",
    "#Посчитайте медиану баланса по каждому пользователю. \n",
    "    #Для этого сгруппируйте по пользователям, возьмите признак net, просуммируйте по каждому пользователю и возьмите медиану.\n",
    "    \n",
    "log = pd.read_csv('C:\\\\Users\\\\vvoyt\\\\learning\\\\python-exercises\\\\8. Feature Engineering\\\\log.csv') \n",
    "log.columns = ['user_id', 'time', 'bet', 'win'] \n",
    "\n",
    "\n",
    "users = pd.read_csv('C:\\\\Users\\\\vvoyt\\\\learning\\\\python-exercises\\\\8. Feature Engineering\\\\users.csv', encoding='KOI8-R', sep='\\t')\n",
    "users.columns = ['user_id', 'email', 'geo']\n",
    "\n",
    "#Приведем признак user_id к одному формату в обоих датасетах  \n",
    "users.user_id = users.user_id.apply(lambda x: x.lower())  \n",
    "\n",
    "#Избавимся от ошибок в user_id  \n",
    "log = log[log.user_id != '#error']  \n",
    "log.user_id = log.user_id.str.split(' - ').apply(lambda x: x[1])  \n",
    "\n",
    "#Уберём лишние символы из 'time'\n",
    "log.time = log.time.str.replace(\"[[#,@,&]\", \"\")\n",
    "\n",
    "#Заполним нули\n",
    "log = log.fillna(0)\n",
    "\n",
    "#Считаем выигрышь\n",
    "log['net'] = log['win'] - log['bet']\n",
    "\n",
    "#Объединяем датасеты\n",
    "log_users = pd.merge(users, log, on='user_id')\n",
    "\n",
    "log_users.groupby('user_id').net.sum().median()"
   ]
  },
  {
   "cell_type": "code",
   "execution_count": 32,
   "metadata": {},
   "outputs": [
    {
     "name": "stdout",
     "output_type": "stream",
     "text": [
      "geo\n",
      "Арзангелтск           74375.0\n",
      "Воронеж              184338.0\n",
      "Екатеринбург          36682.0\n",
      "Ижевск                84895.0\n",
      "Казань                97806.0\n",
      "Краснодар             62718.0\n",
      "Красноярск            84767.0\n",
      "Москва             11959741.0\n",
      "Пермь                 67734.0\n",
      "Санкт-Петербург      151007.0\n",
      "Ставрополь            46003.0\n",
      "Тюмень                 4701.0\n",
      "Хабаровск             65459.0\n",
      "Ярославль             97441.0\n",
      "Name: win, dtype: float64\n"
     ]
    }
   ],
   "source": [
    "#10.12.1\n",
    "#Используйте датасет, который получился в результате всех преобразований в прошлой секции (в том числе, заполнение пропусков).\n",
    "#Ответ запишите в поле ниже в виде одного слова с большой буквы.\n",
    "#Наибольший суммарный выигрыш среди всех городов имеет Москва. \n",
    "    #Посчитайте следующий за ней город. Для этого сгруппируйте по городам, возьмите признак win,\n",
    "    #просуммируйте по каждому городу, отсортируйте и возьмите второй город.\n",
    "\n",
    "log = pd.read_csv('C:\\\\Users\\\\vvoyt\\\\learning\\\\python-exercises\\\\8. Feature Engineering\\\\log.csv') \n",
    "log.columns = ['user_id', 'time', 'bet', 'win'] \n",
    "\n",
    "\n",
    "users = pd.read_csv('C:\\\\Users\\\\vvoyt\\\\learning\\\\python-exercises\\\\8. Feature Engineering\\\\users.csv', encoding='KOI8-R', sep='\\t')\n",
    "users.columns = ['user_id', 'email', 'geo']\n",
    "\n",
    "#Приведем признак user_id к одному формату в обоих датасетах  \n",
    "users.user_id = users.user_id.apply(lambda x: x.lower())  \n",
    "\n",
    "#Избавимся от ошибок в user_id  \n",
    "log = log[log.user_id != '#error']  \n",
    "log.user_id = log.user_id.str.split(' - ').apply(lambda x: x[1])  \n",
    "\n",
    "#Уберём лишние символы из 'time'\n",
    "log.time = log.time.str.replace(\"[[#,@,&]\", \"\")\n",
    "\n",
    "#Заполним нули\n",
    "log = log.fillna(0)\n",
    "\n",
    "#Считаем выигрышь\n",
    "log['net'] = log['win'] - log['bet']\n",
    "\n",
    "#Объединяем датасеты\n",
    "log_users = pd.merge(users, log, on='user_id')\n",
    "\n",
    "a = log_users.groupby('geo').win.sum()\n",
    "print(a)"
   ]
  },
  {
   "cell_type": "code",
   "execution_count": 33,
   "metadata": {},
   "outputs": [
    {
     "data": {
      "text/plain": [
       "127.81602335164835"
      ]
     },
     "execution_count": 33,
     "metadata": {},
     "output_type": "execute_result"
    }
   ],
   "source": [
    "#10.12.2\n",
    "#Используйте датасет, который получился в результате всех преобразований в прошлой секции (в том числе, заполнение пропусков).\n",
    "\n",
    "#Подсказки:\n",
    "#1. Можно использовать методы min() и max().\n",
    "#2. Учитывайте, что минимальная ставка, это ставка, которая была сделана, т.е. если ставка равна нулю - значит ставки не было.\n",
    "#3. Ответ запишите в поле ниже в виде целого числа (нужно отбросить дробную часть).\n",
    "#Во сколько раз различаются максимальное и минимальное значение средней ставки по городам? \n",
    "    #Для того, чтобы это посчитать, нужно сгруппировать по городам, взять среднее от признака bet, \n",
    "    #найти максимальное и минимальное значения, затем поделить одно на другое.\n",
    "    \n",
    "log = pd.read_csv('C:\\\\Users\\\\vvoyt\\\\learning\\\\python-exercises\\\\8. Feature Engineering\\\\log.csv') \n",
    "log.columns = ['user_id', 'time', 'bet', 'win'] \n",
    "\n",
    "users = pd.read_csv('C:\\\\Users\\\\vvoyt\\\\learning\\\\python-exercises\\\\8. Feature Engineering\\\\users.csv', encoding='KOI8-R', sep='\\t')\n",
    "users.columns = ['user_id', 'email', 'geo']\n",
    "\n",
    "#Приведем признак user_id к одному формату в обоих датасетах  \n",
    "users.user_id = users.user_id.apply(lambda x: x.lower())  \n",
    "\n",
    "#Избавимся от ошибок в user_id  \n",
    "log = log[log.user_id != '#error']  \n",
    "log.user_id = log.user_id.str.split(' - ').apply(lambda x: x[1])  \n",
    "\n",
    "#Уберём лишние символы из 'time'\n",
    "log.time = log.time.str.replace(\"[[#,@,&]\", \"\")\n",
    "\n",
    "#Объединяем датасеты\n",
    "log_users = pd.merge(users, log, on='user_id')\n",
    "\n",
    "#Удаляем строки без ставки\n",
    "log_users.dropna(subset=['bet'], inplace=True)\n",
    "\n",
    "#Счиатем во сколько раз различаются максимальное и минимальное значение средней ставки по городам\n",
    "log_users.groupby('geo').bet.mean().max() / log_users.groupby('geo').bet.mean().min()"
   ]
  },
  {
   "cell_type": "code",
   "execution_count": 34,
   "metadata": {},
   "outputs": [
    {
     "name": "stdout",
     "output_type": "stream",
     "text": [
      "geo\n",
      "Арзангелтск         96\n",
      "Воронеж             88\n",
      "Екатеринбург        49\n",
      "Ижевск              61\n",
      "Казань              66\n",
      "Краснодар           86\n",
      "Красноярск          56\n",
      "Москва              61\n",
      "Пермь               55\n",
      "Санкт-Петербург    115\n",
      "Ставрополь          36\n",
      "Тюмень              32\n",
      "Хабаровск           59\n",
      "Ярославль           89\n",
      "Name: user_id, dtype: int64\n"
     ]
    }
   ],
   "source": [
    "#10.12.3\n",
    "#Давайте повторим все, что мы прошли в этой секции. Напишите код, который посчитает, сколько раз пользователи приходили \n",
    "    #в букмекерскую контору в каждом городе. Для этого:\n",
    "\n",
    "    #1. Загрузите датасеты log.csv и users.csv;\n",
    "log = pd.read_csv('C:\\\\Users\\\\vvoyt\\\\learning\\\\python-exercises\\\\8. Feature Engineering\\\\log.csv') \n",
    "log.columns = ['user_id', 'time', 'bet', 'win'] \n",
    "\n",
    "users = pd.read_csv('C:\\\\Users\\\\vvoyt\\\\learning\\\\python-exercises\\\\8. Feature Engineering\\\\users.csv', encoding='KOI8-R', sep='\\t')\n",
    "users.columns = ['user_id', 'email', 'geo']\n",
    "\n",
    "#2. Удалите user_id с ошибкой (#error) и приведите признак user_id к одному виду в обоих датасетах;\n",
    "log = log[log.user_id != '#error']  \n",
    "log.user_id = log.user_id.str.split(' - ').apply(lambda x: x[1]) \n",
    "users.user_id = users.user_id.apply(lambda x: x.lower())  \n",
    "\n",
    "#3. Слейте два датасета в один по признаку user_id;\n",
    "log_users = pd.merge(log, users, on='user_id')\n",
    "\n",
    "#4. Сгруппируйте данные по правильному признаку (это вам нужно понять самим), затем выберите user_id и\n",
    "    #воспользуйтесь функцией count() для подсчета наблюдений в каждой группе;\n",
    "sample2 = log_users.groupby('geo').user_id.count()\n",
    "    \n",
    "#5. Результат (таблицу) запишите в sample2.\n",
    "print(sample2)"
   ]
  }
 ],
 "metadata": {
  "kernelspec": {
   "display_name": "Python 3",
   "language": "python",
   "name": "python3"
  },
  "language_info": {
   "codemirror_mode": {
    "name": "ipython",
    "version": 3
   },
   "file_extension": ".py",
   "mimetype": "text/x-python",
   "name": "python",
   "nbconvert_exporter": "python",
   "pygments_lexer": "ipython3",
   "version": "3.8.5"
  }
 },
 "nbformat": 4,
 "nbformat_minor": 4
}
